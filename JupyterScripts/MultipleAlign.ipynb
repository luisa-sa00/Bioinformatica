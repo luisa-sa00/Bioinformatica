{
  "cells": [
    {
      "cell_type": "markdown",
      "metadata": {},
      "source": [
        "# Bioinformática - Eng. Biomédica - Análise de dois genes de interesse potencialmente relacionados com a diabetes tipo 2- 2022/2023"
      ]
    },
    {
      "cell_type": "markdown",
      "metadata": {},
      "source": [
        "Trabalho realizado por: Ana Luísa Moreira de Sá (PG49857) José Miguel Moreira Santos (PG51190) Liliana Lima Brito (PG49866)"
      ]
    },
    {
      "cell_type": "markdown",
      "metadata": {},
      "source": [
        "## Alinhamento Múltiplo"
      ]
    },
    {
      "cell_type": "code",
      "execution_count": 1,
      "metadata": {},
      "outputs": [],
      "source": [
        "from Bio.Blast import NCBIXML \n",
        "from Bio.Blast import NCBIWWW \n",
        "from Bio import SeqIO"
      ]
    },
    {
      "cell_type": "code",
      "execution_count": 2,
      "metadata": {},
      "outputs": [],
      "source": [
        "seqrecord = SeqIO.read(\"../sequences/KCNJ11-prot-iso1.fasta\", format=\"fasta\")\n",
        "\n",
        "similar_seqs = NCBIWWW.qblast(\"blastp\", \"swissprot\", seqrecord.format(\"fasta\"))"
      ]
    },
    {
      "cell_type": "code",
      "execution_count": 3,
      "metadata": {},
      "outputs": [
        {
          "name": "stdout",
          "output_type": "stream",
          "text": [
            "Ficheiro criado.\n"
          ]
        }
      ],
      "source": [
        "save_file = open(\"../my_blast.xml\", \"w\")\n",
        "save_file.write(similar_seqs.read())\n",
        "save_file.close()\n",
        "similar_seqs.close()\n",
        "print(\"Ficheiro criado.\")"
      ]
    },
    {
      "cell_type": "code",
      "execution_count": 12,
      "metadata": {},
      "outputs": [],
      "source": [
        "similar_seqs = open(\"../my_blast.xml\")\n",
        "blast_records = NCBIXML.parse(similar_seqs)"
      ]
    },
    {
      "cell_type": "code",
      "execution_count": 13,
      "metadata": {},
      "outputs": [],
      "source": [
        "e_value= 0 #Mudar para 0 para obter os resultados da plataforma blastp\n",
        "homologous = []\n",
        "accession_numbers = []"
      ]
    },
    {
      "cell_type": "code",
      "execution_count": 14,
      "metadata": {},
      "outputs": [
        {
          "name": "stdout",
          "output_type": "stream",
          "text": [
            "PARAMETERS:\n",
            "Database: swissprot\n",
            "Matrix: BLOSUM62\n",
            "Gap penalties:  (11, 1)\n"
          ]
        }
      ],
      "source": [
        "for blast_record in blast_records:\n",
        "    print (\"PARAMETERS:\")\n",
        "    print (\"Database: \" + blast_record.database)\n",
        "    print (\"Matrix: \" + blast_record.matrix)\n",
        "    print (\"Gap penalties: \", blast_record.gap_penalties)\n",
        "    for alignment in blast_record.alignments:\n",
        "        for hsp in alignment.hsps:\n",
        "            if hsp.expect <= e_value:\n",
        "                # print(f'****Alignment with e-value equal to {e_value}****')\n",
        "                # print(\"Species: \", alignment.title[alignment.title.index(\"[\")+1:-1])\n",
        "                organism = alignment.title[alignment.title.index(\"[\")+1:-1]\n",
        "                accession_numbers.append(alignment.accession)\n",
        "                if organism not in homologous and organism != \"Homo sapiens\": #Lista de especies com gene homologo com e-value=0\n",
        "                    homologous.append(organism)\n"
      ]
    },
    {
      "cell_type": "code",
      "execution_count": 15,
      "metadata": {},
      "outputs": [
        {
          "name": "stdout",
          "output_type": "stream",
          "text": [
            "Homologous organisms:  ['Oryctolagus cuniculus', 'Rattus norvegicus', 'Mus musculus', 'Cavia porcellus']\n",
            "Accession numbers:  ['Q14654', 'O02822', 'P70673', 'Q61743', 'Q9JHJ9', 'P97794', 'Q63664', 'Q15842']\n"
          ]
        }
      ],
      "source": [
        "print(\"Homologous organisms: \", homologous)\n",
        "print(\"Accession numbers: \", accession_numbers)"
      ]
    }
  ],
  "metadata": {
    "kernelspec": {
      "display_name": "base",
      "language": "python",
      "name": "python3"
    },
    "language_info": {
      "codemirror_mode": {
        "name": "ipython",
        "version": 3
      },
      "file_extension": ".py",
      "mimetype": "text/x-python",
      "name": "python",
      "nbconvert_exporter": "python",
      "pygments_lexer": "ipython3",
      "version": "3.9.15"
    },
    "toc-autonumbering": true,
    "toc-showcode": true,
    "toc-showmarkdowntxt": false,
    "vscode": {
      "interpreter": {
        "hash": "248a588a76b6706a21340fde56c27be1ec20c4c6adc023561a032c09e10eba1a"
      }
    }
  },
  "nbformat": 4,
  "nbformat_minor": 4
}
